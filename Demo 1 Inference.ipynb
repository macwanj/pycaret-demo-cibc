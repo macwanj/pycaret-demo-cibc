{
 "cells": [
  {
   "cell_type": "code",
   "execution_count": 3,
   "id": "33ce08cf",
   "metadata": {},
   "outputs": [],
   "source": [
    "import requests\n",
    "\n",
    "def get_predictions(age, sex, bmi, children, smoker, region):\n",
    "    url = f\"http://localhost:8000/predict?age={age}&sex={sex}&bmi={bmi}&children={children}&smoker={smoker}&region={region}\"\n",
    "    x = requests.post(url)\n",
    "    print(x.text)"
   ]
  },
  {
   "cell_type": "code",
   "execution_count": 4,
   "id": "07304b68",
   "metadata": {},
   "outputs": [
    {
     "name": "stdout",
     "output_type": "stream",
     "text": [
      "{\"prediction\":18894}\n"
     ]
    }
   ],
   "source": [
    "get_predictions(19, 'female', 27.9, 0, 'yes', 'southwest')"
   ]
  },
  {
   "cell_type": "code",
   "execution_count": null,
   "id": "4d6205f5",
   "metadata": {},
   "outputs": [],
   "source": []
  }
 ],
 "metadata": {
  "kernelspec": {
   "display_name": "Python 3",
   "language": "python",
   "name": "python3"
  },
  "language_info": {
   "codemirror_mode": {
    "name": "ipython",
    "version": 3
   },
   "file_extension": ".py",
   "mimetype": "text/x-python",
   "name": "python",
   "nbconvert_exporter": "python",
   "pygments_lexer": "ipython3",
   "version": "3.8.8"
  }
 },
 "nbformat": 4,
 "nbformat_minor": 5
}
